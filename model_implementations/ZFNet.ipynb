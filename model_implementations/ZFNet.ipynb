{
 "cells": [
  {
   "cell_type": "code",
   "execution_count": 1,
   "metadata": {},
   "outputs": [],
   "source": [
    "import numpy as np\n",
    "import torch\n",
    "from torch import nn\n",
    "from torch.utils.data import Dataset, DataLoader\n",
    "from torchvision import transforms\n",
    "from torch.utils.data.sampler import SubsetRandomSampler\n",
    "from torchmetrics.classification import Accuracy\n",
    "from torch.optim.lr_scheduler import ReduceLROnPlateau\n",
    "from tqdm.auto import tqdm\n",
    "import cv2\n",
    "import load_data\n",
    "import matplotlib.pyplot as plt\n",
    "import torch.nn.functional as F\n",
    "import os\n",
    "import torchvision.models as models"
   ]
  },
  {
   "cell_type": "code",
   "execution_count": 2,
   "metadata": {},
   "outputs": [],
   "source": [
    "# Setup device-agnocstic code\n",
    "device = 'cuda' if torch.cuda.is_available() else 'mps' if torch.backends.mps.is_available() else 'cpu'\n",
    "os.environ[\"PYTORCH_ENABLE_MPS_FALLBACK\"] = '1' #LocalResponseNorm is not available on Apple MPS / this line still does not fix it so i used google colab"
   ]
  },
  {
   "cell_type": "code",
   "execution_count": 3,
   "metadata": {},
   "outputs": [
    {
     "name": "stdout",
     "output_type": "stream",
     "text": [
      "Files already downloaded and verified\n",
      "Files already downloaded and verified\n",
      "Files already downloaded and verified\n"
     ]
    }
   ],
   "source": [
    "# Load CIFAR10 data\n",
    "train_data, validation_data = load_data.get_train_valid_loader(data_dir='datasets', augment=False, batch_size=128, random_seed=42)\n",
    "test_data = load_data.get_test_loader(data_dir='datasets', batch_size=128, shuffle=True)"
   ]
  },
  {
   "cell_type": "code",
   "execution_count": 4,
   "metadata": {},
   "outputs": [],
   "source": [
    "#Create ZFNet architecture\n",
    "\n",
    "class ZFNet(nn.Module):\n",
    "    def __init__(self, in_channels, classes=10):\n",
    "        super().__init__()\n",
    "        self.features = nn.Sequential(\n",
    "            nn.Conv2d(in_channels=in_channels, out_channels=96, kernel_size=7, stride=2, padding=1),\n",
    "            nn.ReLU(),\n",
    "            nn.LocalResponseNorm(5, alpha=10**-4, beta=0.75, k=2), # 'brightness normalization' to reduce overfitting\n",
    "            nn.MaxPool2d(kernel_size=3, stride=2, padding=1, return_indices=True),  #overlapping pooling  #return the indices for unpooling later\n",
    "            nn.Conv2d(in_channels=96, out_channels=256, kernel_size=5, stride=2, padding=0),\n",
    "            nn.ReLU(),\n",
    "            nn.LocalResponseNorm(5, alpha=10**-4, beta=0.75, k=2),\n",
    "            nn.MaxPool2d(kernel_size=3, stride=2, padding=1, return_indices=True),\n",
    "            nn.Conv2d(in_channels=256, out_channels=384, kernel_size=3, stride=1, padding=1),\n",
    "            nn.ReLU(),\n",
    "            nn.Conv2d(in_channels=384, out_channels=384, kernel_size=3, stride=1, padding=1),\n",
    "            nn.ReLU(),\n",
    "            nn.Conv2d(in_channels=384, out_channels=256, kernel_size=3, stride=1, padding=1),\n",
    "            nn.ReLU(),\n",
    "            nn.MaxPool2d(kernel_size=3, stride=2, padding=0, return_indices=True)\n",
    "        )\n",
    "        self.classifier = nn.Sequential(\n",
    "            #nn.Dropout(0.5),\n",
    "            nn.Linear(in_features=256*6*6, out_features=4096),\n",
    "            nn.ReLU(),\n",
    "            #nn.Dropout(0.5),\n",
    "            nn.Linear(in_features=4096, out_features=4096),\n",
    "            nn.ReLU(),\n",
    "            nn.Linear(in_features=4096, out_features=classes),\n",
    "        )\n",
    "\n",
    "        self._initialize_weights()\n",
    "\n",
    "        self.sizes = {}\n",
    "        self.indices = {}\n",
    "        self.outputs = {}\n",
    "\n",
    "    def forward(self, x):\n",
    "        for i, layer in enumerate(self.features):\n",
    "            if isinstance(layer, nn.MaxPool2d):\n",
    "                x, indices = layer(x)\n",
    "                self.indices[i] = indices\n",
    "            else:\n",
    "                x = layer(x)\n",
    "            self.outputs[i] = x.clone()\n",
    "\n",
    "        x = x.view(x.size(0), -1)\n",
    "        x = self.classifier(x)\n",
    "        return x\n",
    "\n",
    "    def deconv(self, x, layer):\n",
    "        if layer >= len(self.features):\n",
    "            raise ValueError(\"Layer number out of range\")\n",
    "\n",
    "        for i in range(len(self.features) - 1, len(self.features) - layer - 1, -1):\n",
    "            if isinstance(self.features[i], nn.MaxPool2d):\n",
    "                x = nn.functional.max_unpool2d(x, self.indices[i],\n",
    "                                               kernel_size=self.features[i].kernel_size,\n",
    "                                               stride=self.features[i].stride,\n",
    "                                               padding=self.features[i].padding,\n",
    "                                               output_size=self.outputs[i-1].size())\n",
    "            elif isinstance(self.features[i], nn.Conv2d):\n",
    "                x = nn.functional.conv_transpose2d(x, self.features[i].weight,\n",
    "                                                   stride=self.features[i].stride,\n",
    "                                                   padding=self.features[i].padding)\n",
    "            elif isinstance(self.features[i], nn.ReLU):\n",
    "                x = self.features[i](x)\n",
    "        return x\n",
    "    \n",
    "    def visualize_layers(self, input_image):\n",
    "        self.input_image = input_image.unsqueeze(0)\n",
    "        self.eval()\n",
    "        with torch.no_grad():\n",
    "            output = self(self.input_image)\n",
    "\n",
    "        probs = torch.nn.Softmax(dim=-1)(output)\n",
    "        probability, predicted_class = torch.max(probs, dim=1)\n",
    "        class_name = str(predicted_class.item())\n",
    "\n",
    "        fig = plt.figure(figsize=(20,20))\n",
    "\n",
    "        # Ensure the input image is in the correct format and range\n",
    "        input_image = input_image.clamp(0, 1)  # If normalized between 0 and 1\n",
    "        input_image = (input_image * 255).byte()  # Convert to 0-255 range\n",
    "        input_image = input_image.permute(1, 2, 0)\n",
    "\n",
    "        # plot original image\n",
    "        fig.add_subplot(1, 6, 1)\n",
    "        plt.imshow(input_image.cpu().numpy())  # Adjusting channel format for plotting\n",
    "        plt.title(f\"Class: {class_name}, Probability: {probability.item():.4f}\", fontsize=13)\n",
    "        plt.axis('off')\n",
    "\n",
    "\n",
    "        # plot deconv visualizations\n",
    "        for j in range(1,6):\n",
    "            deconv_output = self.deconv(self.outputs[len(self.features)-1], j)\n",
    "            deconv_output = deconv_output.squeeze(0).cpu().detach().numpy()\n",
    "\n",
    "            # Normalize the output\n",
    "            epsilon = 1e-5  # Small value to avoid division by zero\n",
    "            deconv_output = (deconv_output - deconv_output.min()) / (deconv_output.max() - deconv_output.min() + epsilon)\n",
    "\n",
    "            # If the output has more than 3 channels, we'll visualize the first 3\n",
    "            if deconv_output.shape[0] > 3:\n",
    "                deconv_output = deconv_output[:3]\n",
    "\n",
    "            # Ensure we have 3 channels for RGB display\n",
    "            if deconv_output.shape[0] == 1:\n",
    "                deconv_output = np.repeat(deconv_output, 3, axis=0)\n",
    "            elif deconv_output.shape[0] == 2:\n",
    "                deconv_output = np.pad(deconv_output, ((0, 1), (0, 0), (0, 0)), mode='constant')\n",
    "\n",
    "            # Transpose to (height, width, channels) for imshow\n",
    "            deconv_output = np.transpose(deconv_output, (1, 2, 0))\n",
    "\n",
    "            ax = fig.add_subplot(1, 6, j + 1)\n",
    "            plt.imshow(deconv_output)\n",
    "            plt.title(f\"Layer {j} Deconv\", fontsize=13)\n",
    "            plt.axis('off')\n",
    "\n",
    "        plt.tight_layout()\n",
    "        plt.show()\n",
    "    \n",
    "    def _initialize_weights(self):\n",
    "        for i in self.modules():\n",
    "            if isinstance(i, (nn.Conv2d, nn.Linear)):\n",
    "                nn.init.normal_(i.weight, mean=0, std=0.01),\n",
    "                nn.init.constant_(i.bias, 0)\n"
   ]
  },
  {
   "cell_type": "markdown",
   "metadata": {},
   "source": [
    "## Model Training"
   ]
  },
  {
   "cell_type": "code",
   "execution_count": 6,
   "metadata": {},
   "outputs": [
    {
     "data": {
      "text/plain": [
       "<All keys matched successfully>"
      ]
     },
     "execution_count": 6,
     "metadata": {},
     "output_type": "execute_result"
    }
   ],
   "source": [
    "net = ZFNet(in_channels=3, classes=10).to(device=device)\n",
    "net.load_state_dict(torch.load(\"ZFNet50.pth\"))"
   ]
  },
  {
   "cell_type": "code",
   "execution_count": 7,
   "metadata": {},
   "outputs": [],
   "source": [
    "#define loss function, optimizer and accuracy function\n",
    "loss_fn = nn.CrossEntropyLoss()\n",
    "optimizer = torch.optim.SGD(\n",
    "    params=net.parameters(),\n",
    "    momentum=0.9,\n",
    "    lr=0.01\n",
    "    )\n",
    "scheduler = ReduceLROnPlateau(optimizer, mode='min', factor=0.1, patience=10) #divide lr by 10 everytime validation loss plateaus\n",
    "accuracy_fn = Accuracy(task='multiclass', num_classes=10).to(device)\n"
   ]
  },
  {
   "cell_type": "code",
   "execution_count": 8,
   "metadata": {},
   "outputs": [
    {
     "data": {
      "application/vnd.jupyter.widget-view+json": {
       "model_id": "b3835121fbd54c2d89876cb9eeb938a8",
       "version_major": 2,
       "version_minor": 0
      },
      "text/plain": [
       "Epochs:   0%|          | 0/30 [00:00<?, ?it/s]"
      ]
     },
     "metadata": {},
     "output_type": "display_data"
    },
    {
     "name": "stdout",
     "output_type": "stream",
     "text": [
      "Epoch: 0/30\n",
      "-----------------------\n"
     ]
    },
    {
     "data": {
      "application/vnd.jupyter.widget-view+json": {
       "model_id": "cca3d62e05004de5a3fc53713f9c39b5",
       "version_major": 2,
       "version_minor": 0
      },
      "text/plain": [
       "Batches:   0%|          | 0/352 [00:00<?, ?it/s]"
      ]
     },
     "metadata": {},
     "output_type": "display_data"
    },
    {
     "name": "stdout",
     "output_type": "stream",
     "text": [
      "\n",
      "Train loss: 0.0000001663 | Val loss: 1.6572932005, Val acc: 77.79%\n",
      "\n",
      "Epoch: 1/30\n",
      "-----------------------\n"
     ]
    },
    {
     "data": {
      "application/vnd.jupyter.widget-view+json": {
       "model_id": "017e3627edc64d028c314f656c07a551",
       "version_major": 2,
       "version_minor": 0
      },
      "text/plain": [
       "Batches:   0%|          | 0/352 [00:00<?, ?it/s]"
      ]
     },
     "metadata": {},
     "output_type": "display_data"
    },
    {
     "name": "stdout",
     "output_type": "stream",
     "text": [
      "\n",
      "Train loss: 0.0000002166 | Val loss: 1.7193098068, Val acc: 77.99%\n",
      "\n",
      "Epoch: 2/30\n",
      "-----------------------\n"
     ]
    },
    {
     "data": {
      "application/vnd.jupyter.widget-view+json": {
       "model_id": "a71d31e849d64c3bb3789e19364bbd89",
       "version_major": 2,
       "version_minor": 0
      },
      "text/plain": [
       "Batches:   0%|          | 0/352 [00:00<?, ?it/s]"
      ]
     },
     "metadata": {},
     "output_type": "display_data"
    },
    {
     "name": "stdout",
     "output_type": "stream",
     "text": [
      "\n",
      "Train loss: 0.0000002080 | Val loss: 1.7937303782, Val acc: 77.40%\n",
      "\n",
      "Epoch: 3/30\n",
      "-----------------------\n"
     ]
    },
    {
     "data": {
      "application/vnd.jupyter.widget-view+json": {
       "model_id": "304aa533bdc44df3aad06d15f96bd977",
       "version_major": 2,
       "version_minor": 0
      },
      "text/plain": [
       "Batches:   0%|          | 0/352 [00:00<?, ?it/s]"
      ]
     },
     "metadata": {},
     "output_type": "display_data"
    },
    {
     "name": "stdout",
     "output_type": "stream",
     "text": [
      "\n",
      "Train loss: 0.0000000328 | Val loss: 1.7614157200, Val acc: 78.03%\n",
      "\n",
      "Epoch: 4/30\n",
      "-----------------------\n"
     ]
    },
    {
     "data": {
      "application/vnd.jupyter.widget-view+json": {
       "model_id": "53a3d4acbcef4eae9d8f5dcf5279dfac",
       "version_major": 2,
       "version_minor": 0
      },
      "text/plain": [
       "Batches:   0%|          | 0/352 [00:00<?, ?it/s]"
      ]
     },
     "metadata": {},
     "output_type": "display_data"
    },
    {
     "name": "stdout",
     "output_type": "stream",
     "text": [
      "\n",
      "Train loss: 0.0000001513 | Val loss: 1.7944730520, Val acc: 78.11%\n",
      "\n",
      "Epoch: 5/30\n",
      "-----------------------\n"
     ]
    },
    {
     "data": {
      "application/vnd.jupyter.widget-view+json": {
       "model_id": "620fc44d8341494c82b820a7fbb56e57",
       "version_major": 2,
       "version_minor": 0
      },
      "text/plain": [
       "Batches:   0%|          | 0/352 [00:00<?, ?it/s]"
      ]
     },
     "metadata": {},
     "output_type": "display_data"
    },
    {
     "name": "stdout",
     "output_type": "stream",
     "text": [
      "\n",
      "Train loss: 0.0000000171 | Val loss: 1.8427724838, Val acc: 77.50%\n",
      "\n",
      "Epoch: 6/30\n",
      "-----------------------\n"
     ]
    },
    {
     "data": {
      "application/vnd.jupyter.widget-view+json": {
       "model_id": "485343d0cb9b45009542d3d959cece3a",
       "version_major": 2,
       "version_minor": 0
      },
      "text/plain": [
       "Batches:   0%|          | 0/352 [00:00<?, ?it/s]"
      ]
     },
     "metadata": {},
     "output_type": "display_data"
    },
    {
     "name": "stdout",
     "output_type": "stream",
     "text": [
      "\n",
      "Train loss: 0.0000001428 | Val loss: 1.8103001118, Val acc: 77.79%\n",
      "\n",
      "Epoch: 7/30\n",
      "-----------------------\n"
     ]
    },
    {
     "data": {
      "application/vnd.jupyter.widget-view+json": {
       "model_id": "393df84acbde439ea9e89a55737ba88f",
       "version_major": 2,
       "version_minor": 0
      },
      "text/plain": [
       "Batches:   0%|          | 0/352 [00:00<?, ?it/s]"
      ]
     },
     "metadata": {},
     "output_type": "display_data"
    },
    {
     "name": "stdout",
     "output_type": "stream",
     "text": [
      "\n",
      "Train loss: 0.0000000198 | Val loss: 1.8803663254, Val acc: 77.50%\n",
      "\n",
      "Epoch: 8/30\n",
      "-----------------------\n"
     ]
    },
    {
     "data": {
      "application/vnd.jupyter.widget-view+json": {
       "model_id": "9a28cb739b3d4caf821ddee5538b7be1",
       "version_major": 2,
       "version_minor": 0
      },
      "text/plain": [
       "Batches:   0%|          | 0/352 [00:00<?, ?it/s]"
      ]
     },
     "metadata": {},
     "output_type": "display_data"
    },
    {
     "name": "stdout",
     "output_type": "stream",
     "text": [
      "\n",
      "Train loss: 0.0000000252 | Val loss: 1.9527024031, Val acc: 77.50%\n",
      "\n",
      "Epoch: 9/30\n",
      "-----------------------\n"
     ]
    },
    {
     "data": {
      "application/vnd.jupyter.widget-view+json": {
       "model_id": "af1d96b0cecd4535afc961ced94d24bc",
       "version_major": 2,
       "version_minor": 0
      },
      "text/plain": [
       "Batches:   0%|          | 0/352 [00:00<?, ?it/s]"
      ]
     },
     "metadata": {},
     "output_type": "display_data"
    },
    {
     "name": "stdout",
     "output_type": "stream",
     "text": [
      "\n",
      "Train loss: 0.0000000431 | Val loss: 1.9342483282, Val acc: 77.50%\n",
      "\n",
      "Epoch: 10/30\n",
      "-----------------------\n"
     ]
    },
    {
     "data": {
      "application/vnd.jupyter.widget-view+json": {
       "model_id": "0023c8490da54a1083a041f5765b3735",
       "version_major": 2,
       "version_minor": 0
      },
      "text/plain": [
       "Batches:   0%|          | 0/352 [00:00<?, ?it/s]"
      ]
     },
     "metadata": {},
     "output_type": "display_data"
    },
    {
     "name": "stdout",
     "output_type": "stream",
     "text": [
      "\n",
      "Train loss: 0.0000000222 | Val loss: 1.9864052534, Val acc: 77.23%\n",
      "\n",
      "Epoch: 11/30\n",
      "-----------------------\n"
     ]
    },
    {
     "data": {
      "application/vnd.jupyter.widget-view+json": {
       "model_id": "8b28b127ed9d44648fc831345e7870e7",
       "version_major": 2,
       "version_minor": 0
      },
      "text/plain": [
       "Batches:   0%|          | 0/352 [00:00<?, ?it/s]"
      ]
     },
     "metadata": {},
     "output_type": "display_data"
    },
    {
     "name": "stdout",
     "output_type": "stream",
     "text": [
      "\n",
      "Train loss: 0.0000000328 | Val loss: 1.9095308781, Val acc: 77.79%\n",
      "\n",
      "Epoch: 12/30\n",
      "-----------------------\n"
     ]
    },
    {
     "data": {
      "application/vnd.jupyter.widget-view+json": {
       "model_id": "162c21686e6046b6962a846f4eff3387",
       "version_major": 2,
       "version_minor": 0
      },
      "text/plain": [
       "Batches:   0%|          | 0/352 [00:00<?, ?it/s]"
      ]
     },
     "metadata": {},
     "output_type": "display_data"
    },
    {
     "name": "stdout",
     "output_type": "stream",
     "text": [
      "\n",
      "Train loss: 0.0000000407 | Val loss: 1.8807153702, Val acc: 78.09%\n",
      "\n",
      "Epoch: 13/30\n",
      "-----------------------\n"
     ]
    },
    {
     "data": {
      "application/vnd.jupyter.widget-view+json": {
       "model_id": "0e002dce290f4542b1b8f4570217e806",
       "version_major": 2,
       "version_minor": 0
      },
      "text/plain": [
       "Batches:   0%|          | 0/352 [00:00<?, ?it/s]"
      ]
     },
     "metadata": {},
     "output_type": "display_data"
    },
    {
     "name": "stdout",
     "output_type": "stream",
     "text": [
      "\n",
      "Train loss: 0.0000000105 | Val loss: 1.9007366896, Val acc: 78.09%\n",
      "\n",
      "Epoch: 14/30\n",
      "-----------------------\n"
     ]
    },
    {
     "data": {
      "application/vnd.jupyter.widget-view+json": {
       "model_id": "8d318f5c525b4559baaf42f2192b93f6",
       "version_major": 2,
       "version_minor": 0
      },
      "text/plain": [
       "Batches:   0%|          | 0/352 [00:00<?, ?it/s]"
      ]
     },
     "metadata": {},
     "output_type": "display_data"
    },
    {
     "name": "stdout",
     "output_type": "stream",
     "text": [
      "\n",
      "Train loss: 0.0000000053 | Val loss: 1.9251116514, Val acc: 77.50%\n",
      "\n",
      "Epoch: 15/30\n",
      "-----------------------\n"
     ]
    },
    {
     "data": {
      "application/vnd.jupyter.widget-view+json": {
       "model_id": "e380418afd564797b4736c740a7503ae",
       "version_major": 2,
       "version_minor": 0
      },
      "text/plain": [
       "Batches:   0%|          | 0/352 [00:00<?, ?it/s]"
      ]
     },
     "metadata": {},
     "output_type": "display_data"
    },
    {
     "name": "stdout",
     "output_type": "stream",
     "text": [
      "\n",
      "Train loss: 0.0000000269 | Val loss: 1.8993577957, Val acc: 78.09%\n",
      "\n",
      "Epoch: 16/30\n",
      "-----------------------\n"
     ]
    },
    {
     "data": {
      "application/vnd.jupyter.widget-view+json": {
       "model_id": "971b6fb298ce48ad87d610c8e10b378a",
       "version_major": 2,
       "version_minor": 0
      },
      "text/plain": [
       "Batches:   0%|          | 0/352 [00:00<?, ?it/s]"
      ]
     },
     "metadata": {},
     "output_type": "display_data"
    },
    {
     "name": "stdout",
     "output_type": "stream",
     "text": [
      "\n",
      "Train loss: 0.0000000737 | Val loss: 1.8985315561, Val acc: 77.79%\n",
      "\n",
      "Epoch: 17/30\n",
      "-----------------------\n"
     ]
    },
    {
     "data": {
      "application/vnd.jupyter.widget-view+json": {
       "model_id": "f1686fffd64e423cad6b8f48b607d960",
       "version_major": 2,
       "version_minor": 0
      },
      "text/plain": [
       "Batches:   0%|          | 0/352 [00:00<?, ?it/s]"
      ]
     },
     "metadata": {},
     "output_type": "display_data"
    },
    {
     "name": "stdout",
     "output_type": "stream",
     "text": [
      "\n",
      "Train loss: 0.0000000384 | Val loss: 1.9686113596, Val acc: 77.81%\n",
      "\n",
      "Epoch: 18/30\n",
      "-----------------------\n"
     ]
    },
    {
     "data": {
      "application/vnd.jupyter.widget-view+json": {
       "model_id": "8d61fa2b74d24b92bd67745313d5869b",
       "version_major": 2,
       "version_minor": 0
      },
      "text/plain": [
       "Batches:   0%|          | 0/352 [00:00<?, ?it/s]"
      ]
     },
     "metadata": {},
     "output_type": "display_data"
    },
    {
     "name": "stdout",
     "output_type": "stream",
     "text": [
      "\n",
      "Train loss: 0.0000000944 | Val loss: 1.9128503799, Val acc: 77.81%\n",
      "\n",
      "Epoch: 19/30\n",
      "-----------------------\n"
     ]
    },
    {
     "data": {
      "application/vnd.jupyter.widget-view+json": {
       "model_id": "ee687a56d1c7459da19f77fb53d65f5e",
       "version_major": 2,
       "version_minor": 0
      },
      "text/plain": [
       "Batches:   0%|          | 0/352 [00:00<?, ?it/s]"
      ]
     },
     "metadata": {},
     "output_type": "display_data"
    },
    {
     "name": "stdout",
     "output_type": "stream",
     "text": [
      "\n",
      "Train loss: 0.0000000216 | Val loss: 1.9183651209, Val acc: 77.52%\n",
      "\n",
      "Epoch: 20/30\n",
      "-----------------------\n"
     ]
    },
    {
     "data": {
      "application/vnd.jupyter.widget-view+json": {
       "model_id": "b8fcd751fce34b32b5ad0746fd141cba",
       "version_major": 2,
       "version_minor": 0
      },
      "text/plain": [
       "Batches:   0%|          | 0/352 [00:00<?, ?it/s]"
      ]
     },
     "metadata": {},
     "output_type": "display_data"
    },
    {
     "name": "stdout",
     "output_type": "stream",
     "text": [
      "\n",
      "Train loss: 0.0000000498 | Val loss: 1.8865112066, Val acc: 78.40%\n",
      "\n",
      "Epoch: 21/30\n",
      "-----------------------\n"
     ]
    },
    {
     "data": {
      "application/vnd.jupyter.widget-view+json": {
       "model_id": "af2d3e2154aa4b37bf7be7878a434563",
       "version_major": 2,
       "version_minor": 0
      },
      "text/plain": [
       "Batches:   0%|          | 0/352 [00:00<?, ?it/s]"
      ]
     },
     "metadata": {},
     "output_type": "display_data"
    },
    {
     "name": "stdout",
     "output_type": "stream",
     "text": [
      "\n",
      "Train loss: 0.0000000350 | Val loss: 1.9455120564, Val acc: 77.81%\n",
      "\n",
      "Epoch: 22/30\n",
      "-----------------------\n"
     ]
    },
    {
     "data": {
      "application/vnd.jupyter.widget-view+json": {
       "model_id": "9946a8d12aa54be29c7e8c45ea5b520e",
       "version_major": 2,
       "version_minor": 0
      },
      "text/plain": [
       "Batches:   0%|          | 0/352 [00:00<?, ?it/s]"
      ]
     },
     "metadata": {},
     "output_type": "display_data"
    },
    {
     "name": "stdout",
     "output_type": "stream",
     "text": [
      "\n",
      "Train loss: 0.0000000266 | Val loss: 1.9026092291, Val acc: 78.09%\n",
      "\n",
      "Epoch: 23/30\n",
      "-----------------------\n"
     ]
    },
    {
     "data": {
      "application/vnd.jupyter.widget-view+json": {
       "model_id": "e0713777537848b7a2e9217dc9db4734",
       "version_major": 2,
       "version_minor": 0
      },
      "text/plain": [
       "Batches:   0%|          | 0/352 [00:00<?, ?it/s]"
      ]
     },
     "metadata": {},
     "output_type": "display_data"
    },
    {
     "name": "stdout",
     "output_type": "stream",
     "text": [
      "\n",
      "Train loss: 0.0000000453 | Val loss: 1.9361342192, Val acc: 78.11%\n",
      "\n",
      "Epoch: 24/30\n",
      "-----------------------\n"
     ]
    },
    {
     "data": {
      "application/vnd.jupyter.widget-view+json": {
       "model_id": "9b3333ac85e7424eb7b1be856a3f76b7",
       "version_major": 2,
       "version_minor": 0
      },
      "text/plain": [
       "Batches:   0%|          | 0/352 [00:00<?, ?it/s]"
      ]
     },
     "metadata": {},
     "output_type": "display_data"
    },
    {
     "name": "stdout",
     "output_type": "stream",
     "text": [
      "\n",
      "Train loss: 0.0000000733 | Val loss: 1.9862301350, Val acc: 77.21%\n",
      "\n",
      "Epoch: 25/30\n",
      "-----------------------\n"
     ]
    },
    {
     "data": {
      "application/vnd.jupyter.widget-view+json": {
       "model_id": "20b70295df47446696bd05894c3b40d9",
       "version_major": 2,
       "version_minor": 0
      },
      "text/plain": [
       "Batches:   0%|          | 0/352 [00:00<?, ?it/s]"
      ]
     },
     "metadata": {},
     "output_type": "display_data"
    },
    {
     "name": "stdout",
     "output_type": "stream",
     "text": [
      "\n",
      "Train loss: 0.0000000375 | Val loss: 1.9119316339, Val acc: 78.09%\n",
      "\n",
      "Epoch: 26/30\n",
      "-----------------------\n"
     ]
    },
    {
     "data": {
      "application/vnd.jupyter.widget-view+json": {
       "model_id": "a98caa4f990141a5ad85465e2aae5279",
       "version_major": 2,
       "version_minor": 0
      },
      "text/plain": [
       "Batches:   0%|          | 0/352 [00:00<?, ?it/s]"
      ]
     },
     "metadata": {},
     "output_type": "display_data"
    },
    {
     "name": "stdout",
     "output_type": "stream",
     "text": [
      "\n",
      "Train loss: 0.0000000366 | Val loss: 1.9735307693, Val acc: 77.21%\n",
      "\n",
      "Epoch: 27/30\n",
      "-----------------------\n"
     ]
    },
    {
     "data": {
      "application/vnd.jupyter.widget-view+json": {
       "model_id": "44f605ddfb4e45318e8db7c0c9b75183",
       "version_major": 2,
       "version_minor": 0
      },
      "text/plain": [
       "Batches:   0%|          | 0/352 [00:00<?, ?it/s]"
      ]
     },
     "metadata": {},
     "output_type": "display_data"
    },
    {
     "name": "stdout",
     "output_type": "stream",
     "text": [
      "\n",
      "Train loss: 0.0000000174 | Val loss: 2.0185964108, Val acc: 77.23%\n",
      "\n",
      "Epoch: 28/30\n",
      "-----------------------\n"
     ]
    },
    {
     "data": {
      "application/vnd.jupyter.widget-view+json": {
       "model_id": "5172791696544f10ab6e5c31f2b7e7dd",
       "version_major": 2,
       "version_minor": 0
      },
      "text/plain": [
       "Batches:   0%|          | 0/352 [00:00<?, ?it/s]"
      ]
     },
     "metadata": {},
     "output_type": "display_data"
    },
    {
     "name": "stdout",
     "output_type": "stream",
     "text": [
      "\n",
      "Train loss: 0.0000000406 | Val loss: 1.9277034998, Val acc: 77.81%\n",
      "\n",
      "Epoch: 29/30\n",
      "-----------------------\n"
     ]
    },
    {
     "data": {
      "application/vnd.jupyter.widget-view+json": {
       "model_id": "eb6b01a698e34e1fac2703893e310efb",
       "version_major": 2,
       "version_minor": 0
      },
      "text/plain": [
       "Batches:   0%|          | 0/352 [00:00<?, ?it/s]"
      ]
     },
     "metadata": {},
     "output_type": "display_data"
    },
    {
     "name": "stdout",
     "output_type": "stream",
     "text": [
      "\n",
      "Train loss: 0.0000000554 | Val loss: 1.9039335251, Val acc: 77.79%\n",
      "\n"
     ]
    }
   ],
   "source": [
    "# training step\n",
    "epochs = 30\n",
    "\n",
    "torch.manual_seed(42)\n",
    "for epoch in tqdm(range(epochs), desc=\"Epochs\"):\n",
    "    train_loss = 0\n",
    "    print(f\"Epoch: {epoch}/{epochs}\\n-----------------------\")\n",
    "    for i, (images, labels) in tqdm(enumerate(train_data), total=len(train_data), desc=\"Batches\"):\n",
    "        train_loss = 0\n",
    "        images = images.to(device)\n",
    "        labels = labels.to(device)\n",
    "\n",
    "        #training\n",
    "        net.train()\n",
    "\n",
    "        #forward pass\n",
    "        train_pred = net(images)\n",
    "\n",
    "        #calculate loss\n",
    "        train_loss += loss_fn(train_pred, labels)\n",
    "\n",
    "        #backprop\n",
    "        optimizer.zero_grad()\n",
    "        train_loss.backward()\n",
    "\n",
    "        #gradient descent\n",
    "        optimizer.step()\n",
    "\n",
    "    train_loss /= len(train_data)\n",
    "\n",
    "    #evaluation\n",
    "    eval_loss, eval_acc = 0, 0\n",
    "    net.eval()\n",
    "    with torch.inference_mode():\n",
    "        for i, (images, labels) in enumerate(validation_data):\n",
    "            images = images.to(device)\n",
    "            labels = labels.to(device)\n",
    "            #forward pass\n",
    "            eval_logits = net(images)\n",
    "            eval_pred = eval_logits.argmax(dim=1)\n",
    "\n",
    "            #calculate loss and accuracy\n",
    "            eval_loss += loss_fn(eval_logits, labels)\n",
    "            eval_acc += accuracy_fn(eval_pred, labels)\n",
    "\n",
    "        eval_loss /= len(validation_data)\n",
    "        eval_acc /= len(validation_data)\n",
    "        eval_acc *= 100\n",
    "\n",
    "    print(f\"\\nTrain loss: {train_loss:.10f} | Val loss: {eval_loss:.10f}, Val acc: {eval_acc:.2f}%\\n\")\n",
    "    scheduler.step(eval_loss)\n"
   ]
  },
  {
   "cell_type": "code",
   "execution_count": 20,
   "metadata": {},
   "outputs": [],
   "source": [
    "torch.save(net.state_dict(), f=\"ZFNet80.pth\")"
   ]
  },
  {
   "cell_type": "markdown",
   "metadata": {},
   "source": [
    "## Load Trained Model and Evaluate Performance"
   ]
  },
  {
   "cell_type": "code",
   "execution_count": 6,
   "metadata": {},
   "outputs": [
    {
     "data": {
      "text/plain": [
       "<All keys matched successfully>"
      ]
     },
     "execution_count": 6,
     "metadata": {},
     "output_type": "execute_result"
    }
   ],
   "source": [
    "net = ZFNet(in_channels=3, classes=10).to(device=device)\n",
    "net.load_state_dict(torch.load(\"ZFNet80.pth\"))"
   ]
  },
  {
   "cell_type": "code",
   "execution_count": 8,
   "metadata": {},
   "outputs": [
    {
     "name": "stdout",
     "output_type": "stream",
     "text": [
      "Accuracy of ZFNet on test images: 77.54%\n"
     ]
    }
   ],
   "source": [
    "net.eval()\n",
    "test_acc = 0\n",
    "with torch.inference_mode():\n",
    "    for images, labels in test_data:\n",
    "        images = images.to(device)\n",
    "        labels = labels.to(device)\n",
    "        \n",
    "        predictions = net(images).argmax(dim=1)\n",
    "        test_acc += accuracy_fn(predictions, labels)\n",
    "    test_acc = (test_acc / len(test_data)) *100\n",
    "    \n",
    "    print(f\"Accuracy of ZFNet on test images: {test_acc:.2f}%\")"
   ]
  },
  {
   "cell_type": "code",
   "execution_count": 9,
   "metadata": {},
   "outputs": [],
   "source": [
    "for images, labels in test_data:\n",
    "    break  # Get the first batch and break out of the loop"
   ]
  },
  {
   "cell_type": "code",
   "execution_count": 22,
   "metadata": {},
   "outputs": [
    {
     "data": {
      "image/png": "[encoded data removed]",
      "text/plain": [
       "<Figure size 2000x2000 with 6 Axes>"
      ]
     },
     "metadata": {},
     "output_type": "display_data"
    }
   ],
   "source": [
    "# Step 3: Access the first test image and label\n",
    "first_image = images[2].to(device)  # Access the first image in the batch\n",
    "\n",
    "# Perform a forward pass with your input image\n",
    "net.visualize_layers(first_image)"
   ]
  }
 ],
 "metadata": {
  "kernelspec": {
   "display_name": "Python 3",
   "language": "python",
   "name": "python3"
  },
  "language_info": {
   "codemirror_mode": {
    "name": "ipython",
    "version": 3
   },
   "file_extension": ".py",
   "mimetype": "text/x-python",
   "name": "python",
   "nbconvert_exporter": "python",
   "pygments_lexer": "ipython3",
   "version": "3.11.5"
  }
 },
 "nbformat": 4,
 "nbformat_minor": 2
}
